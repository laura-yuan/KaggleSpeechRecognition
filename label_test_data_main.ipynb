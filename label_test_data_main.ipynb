{
 "cells": [
  {
   "cell_type": "code",
   "execution_count": 1,
   "metadata": {},
   "outputs": [],
   "source": [
    "import sys\n",
    "import os\n",
    "import system_config as sc\n",
    "\n",
    "system_configuration = sc.get_system_config()\n",
    "sys.path.insert(0, system_configuration['code_tensorlfow'])\n",
    "\n",
    "train_logdir = system_configuration['train_log_tensorflow']\n",
    "graph_path = os.path.join(train_logdir, 'my_frozen_graph.pb')\n",
    "label_path = os.path.join(train_logdir, 'speech_commands_train','conv_labels.txt')\n",
    "submission_file_template = system_configuration['submission_file_template']\n",
    "submission_file = system_configuration['submission_file']\n",
    "\n",
    "data_test_kaggle = system_configuration['data_test_kaggle']\n",
    "\n",
    "\n",
    "import csv\n",
    "submission_field_name = ['fname', 'label']\n",
    "file_list = []\n",
    "with open(submission_file_template) as f:\n",
    "    data = csv.DictReader(f, delimiter = ';')\n",
    "    file_list = [row['fname'] for row in data]\n",
    "\n",
    "input_name  = 'wav_data:0'\n",
    "output_name = 'labels_softmax:0'\n",
    "import label_wav_many_wav as lm"
   ]
  },
  {
   "cell_type": "code",
   "execution_count": 2,
   "metadata": {
    "collapsed": true
   },
   "outputs": [],
   "source": [
    "import time"
   ]
  },
  {
   "cell_type": "code",
   "execution_count": 5,
   "metadata": {},
   "outputs": [
    {
     "name": "stdout",
     "output_type": "stream",
     "text": [
      "6639.066234827042\n"
     ]
    }
   ],
   "source": [
    "\n",
    "file_test = file_list\n",
    "wav_path_test = [os.path.join(data_test_kaggle, file) for file in file_test ]\n",
    "\n",
    "start = time.time()\n",
    "label_test = lm.label_wav(wav_path_test, label_path, graph_path, 'wav_data:0','labels_softmax:0',12)\n",
    "end = time.time()\n",
    "\n",
    "print(end - start)\n"
   ]
  },
  {
   "cell_type": "code",
   "execution_count": 11,
   "metadata": {},
   "outputs": [],
   "source": [
    "with open(submission_file, 'w',newline = '\\n') as f:\n",
    "    data_writer = csv.writer(f, delimiter = ',')\n",
    "    data_writer.writerow(['fname', 'label'])\n",
    "    for ii in range(len(file_test)):\n",
    "        data_writer.writerow([file_test[ii], label_test[ii]])"
   ]
  },
  {
   "cell_type": "code",
   "execution_count": 8,
   "metadata": {
    "collapsed": true
   },
   "outputs": [],
   "source": [
    "with open(submission_file) as f:\n",
    "    data = csv.DictReader(f, delimiter = ';')\n",
    "    file_list = [row['fname'] for row in data]"
   ]
  },
  {
   "cell_type": "code",
   "execution_count": 9,
   "metadata": {},
   "outputs": [
    {
     "data": {
      "text/plain": [
       "158538"
      ]
     },
     "execution_count": 9,
     "metadata": {},
     "output_type": "execute_result"
    }
   ],
   "source": [
    "len(file_list)"
   ]
  }
 ],
 "metadata": {
  "kernelspec": {
   "display_name": "Python [conda env:kaggle_speechrec]",
   "language": "python",
   "name": "conda-env-kaggle_speechrec-py"
  },
  "language_info": {
   "codemirror_mode": {
    "name": "ipython",
    "version": 3
   },
   "file_extension": ".py",
   "mimetype": "text/x-python",
   "name": "python",
   "nbconvert_exporter": "python",
   "pygments_lexer": "ipython3",
   "version": "3.6.2"
  }
 },
 "nbformat": 4,
 "nbformat_minor": 2
}
