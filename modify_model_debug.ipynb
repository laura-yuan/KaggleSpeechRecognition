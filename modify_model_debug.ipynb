{
 "cells": [
  {
   "cell_type": "code",
   "execution_count": null,
   "metadata": {
    "collapsed": true
   },
   "outputs": [],
   "source": [
    "import sys\n",
    "import os\n",
    "import system_config as sc\n",
    "\n",
    "system_configuration = sc.get_system_config()\n",
    "sys.path.insert(0, system_configuration['code_tensorlfow'])\n",
    "\n",
    "import input_data\n",
    "import models\n",
    "\n",
    "import tensorflow as tf\n",
    "import numpy as np\n",
    "from matplotlib import pyplot as plt"
   ]
  },
  {
   "cell_type": "code",
   "execution_count": null,
   "metadata": {
    "collapsed": true
   },
   "outputs": [],
   "source": [
    "## all the arguments of tensorflow's tutorial.\n",
    "## files management.\n",
    "data_url      = 0\n",
    "data_dir      = system_configuration['data_tensorflow']\n",
    "summaries_dir = os.path.join(system_configuration['train_log_debug'],'retrain_log'  )\n",
    "wanted_words  ='yes,no,up,down,left,right,on,off,stop,go'\n",
    "train_dir     = os.path.join(system_configuration['train_log_debug'], 'speech_commands_train')\n",
    "start_checkpoint=''\n",
    "check_nans=False\n",
    "# help='Whether to check for invalid numbers during processing')\n",
    "\n",
    "## training management\n",
    "background_volume = 0.1\n",
    "background_frequency=0.8\n",
    "silence_percentage=10.0\n",
    "unknown_percentage=10.0\n",
    "testing_percentage=10\n",
    "validation_percentage=10\n",
    "time_shift_ms =100.0\n",
    "how_many_training_steps=['15000,3000']\n",
    "eval_step_interval=400\n",
    "# help='How often to evaluate the training results.')\n",
    "batch_size=100\n",
    "save_step_interval=100\n",
    "\n",
    "## model management\n",
    "model_architecture='conv'\n",
    "learning_rate=['0.001,0.0001']\n",
    "\n",
    "## parameter management\n",
    "\n",
    "## audio processing management.\n",
    "sample_rate = 16000\n",
    "clip_duration_ms = 1000\n",
    "window_size_ms = 30.0\n",
    "# help='How long each spectrogram timeslice is',)\n",
    "window_stride_ms = 10.0\n",
    "# help='How long each spectrogram timeslice is',)\n",
    "dct_coefficient_count = 40\n",
    "\n",
    "## our parameter\n",
    "# clean up the data a little bit\n",
    "pct_thresh = [5, 99]\n"
   ]
  }
 ],
 "metadata": {
  "kernelspec": {
   "display_name": "Python [conda env:kaggle_speechrec]",
   "language": "python",
   "name": "conda-env-kaggle_speechrec-py"
  },
  "language_info": {
   "codemirror_mode": {
    "name": "ipython",
    "version": 3
   },
   "file_extension": ".py",
   "mimetype": "text/x-python",
   "name": "python",
   "nbconvert_exporter": "python",
   "pygments_lexer": "ipython3",
   "version": "3.6.2"
  }
 },
 "nbformat": 4,
 "nbformat_minor": 2
}
