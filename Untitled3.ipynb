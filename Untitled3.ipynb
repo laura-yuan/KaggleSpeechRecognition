{
 "cells": [
  {
   "cell_type": "code",
   "execution_count": 8,
   "metadata": {
    "collapsed": true
   },
   "outputs": [],
   "source": [
    "import numpy as np\n",
    "import tensorflow as tf\n",
    "# given a lot of encoding, calculate its distance with the data base.\n",
    "def verify(encoding, wanted_words_encoding):\n",
    "    # encoding.shape = [?, 64]\n",
    "    # wanted_words_encoding = [10, 64]\n",
    "    \n",
    "    # you will get a lot of distance.\n",
    "    m = encoding.shape[0] # number of samples.\n",
    "    n_words = wanted_words_encoding.shape[0]\n",
    "    \n",
    "    dist = np.zeros((m, n_words))\n",
    "    for nn in range(n_words):\n",
    "        dist[:,nn] = np.linalg.norm(encoding - wanted_words_encoding[nn,:], axis=1)\n",
    "        \n",
    "    return dist"
   ]
  },
  {
   "cell_type": "code",
   "execution_count": 14,
   "metadata": {},
   "outputs": [],
   "source": [
    "np.random.seed(0)\n",
    "encoding =  np.zeros((5, 4))\n",
    "wanted_words_encoding = np.reshape(np.array(range(8)), [2, 4])\n",
    "dist = verify(encoding, wanted_words_encoding)"
   ]
  },
  {
   "cell_type": "code",
   "execution_count": 17,
   "metadata": {},
   "outputs": [
    {
     "data": {
      "text/plain": [
       "array([[0, 1, 2, 3],\n",
       "       [4, 5, 6, 7]])"
      ]
     },
     "execution_count": 17,
     "metadata": {},
     "output_type": "execute_result"
    }
   ],
   "source": [
    "wanted_words_encoding"
   ]
  },
  {
   "cell_type": "code",
   "execution_count": 18,
   "metadata": {},
   "outputs": [
    {
     "data": {
      "text/plain": [
       "array([[  3.74165739,  11.22497216],\n",
       "       [  3.74165739,  11.22497216],\n",
       "       [  3.74165739,  11.22497216],\n",
       "       [  3.74165739,  11.22497216],\n",
       "       [  3.74165739,  11.22497216]])"
      ]
     },
     "execution_count": 18,
     "metadata": {},
     "output_type": "execute_result"
    }
   ],
   "source": [
    "dist"
   ]
  },
  {
   "cell_type": "code",
   "execution_count": null,
   "metadata": {
    "collapsed": true
   },
   "outputs": [],
   "source": []
  }
 ],
 "metadata": {
  "kernelspec": {
   "display_name": "Python [conda env:kaggle_speechrec]",
   "language": "python",
   "name": "conda-env-kaggle_speechrec-py"
  },
  "language_info": {
   "codemirror_mode": {
    "name": "ipython",
    "version": 3
   },
   "file_extension": ".py",
   "mimetype": "text/x-python",
   "name": "python",
   "nbconvert_exporter": "python",
   "pygments_lexer": "ipython3",
   "version": "3.6.2"
  }
 },
 "nbformat": 4,
 "nbformat_minor": 2
}
