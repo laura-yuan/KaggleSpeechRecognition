{
 "cells": [
  {
   "cell_type": "code",
   "execution_count": 22,
   "metadata": {},
   "outputs": [],
   "source": [
    "# first, load file\n",
    "import csv\n",
    "import evaluate_utils\n",
    "file_original_path = r'E:\\Juyue\\tmp_conv_replicate_28_1\\speech_commands_train\\kaggle_test.csv'\n",
    "file_changed_path = r'E:\\Juyue\\tmp_conv_replicate_28_1\\speech_commands_train\\kaggle_test_changed.csv'\n",
    "\n",
    "with open(file_original_path, 'r') as fopen:\n",
    "    data = csv.DictReader(fopen, delimiter = ',')\n",
    "    data_list = [row for row in data]\n",
    "    \n",
    "file_list = [row['fname'] for row in data_list]\n",
    "label_list = [row['prediction'] for row in data_list]\n",
    "label_corrected = [evaluate_utils.unwanted_word_to_unknown(label) for label in label_list]\n",
    "\n",
    "with open(file_changed_path, 'w', newline='\\n') as fwrite:\n",
    "    writer = csv.writer(fwrite, delimiter=',')\n",
    "    writer.writerow(['fname','label'])\n",
    "    for ii in range(len(file_list)):\n",
    "        writer.writerow([file_list[ii], label_corrected[ii]])"
   ]
  }
 ],
 "metadata": {
  "kernelspec": {
   "display_name": "Python [conda env:kaggle_speechrec]",
   "language": "python",
   "name": "conda-env-kaggle_speechrec-py"
  },
  "language_info": {
   "codemirror_mode": {
    "name": "ipython",
    "version": 3
   },
   "file_extension": ".py",
   "mimetype": "text/x-python",
   "name": "python",
   "nbconvert_exporter": "python",
   "pygments_lexer": "ipython3",
   "version": "3.6.2"
  }
 },
 "nbformat": 4,
 "nbformat_minor": 2
}
