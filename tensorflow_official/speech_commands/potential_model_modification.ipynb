{
 "cells": [
  {
   "cell_type": "code",
   "execution_count": 24,
   "metadata": {},
   "outputs": [],
   "source": [
    "import numpy as np\n",
    "\n",
    "class learning_rate_control():\n",
    "    def __init__(self, max_step):\n",
    "        self.learning_rate = np.zeros((max_step)) \n",
    "        self.learning_rate_current = 0.1\n",
    "        \n",
    "        self.triplet_loss = np.zeros((max_step))\n",
    "        self.triplet_loss_smoothed = np.zeros((max_step))\n",
    "        \n",
    "        self.smooth_n = 3\n",
    "        self.thresh = 0.05 # 5 percent\n",
    "    def update_value(self, which_step, triplet_loss_value):\n",
    "        self.triplet_loss[which_step] = triplet_loss_value\n",
    "        # which_step is the index for the current value. start from 0.\n",
    "        if which_step <= self.smooth_n - 1:\n",
    "            num_existed_steps = which_step\n",
    "            value_n_steps_agao = 0\n",
    "            num_current_steps = num_existed_steps + 1\n",
    "        else:\n",
    "            num_existed_steps = self.smooth_n\n",
    "            value_n_steps_agao = self.triplet_loss[which_step - self.smooth_n]\n",
    "            num_current_steps = self.smooth_n\n",
    "        if which_step == 0:\n",
    "            self.triplet_loss_smoothed[which_step] = triplet_loss_value\n",
    "            learning_rate_new = self.learning_rate_current\n",
    "        else:\n",
    "            self.triplet_loss_smoothed[which_step] = (self.triplet_loss_smoothed[which_step - 1] * num_existed_steps \n",
    "                                                      - value_n_steps_agao + triplet_loss_value)/num_current_steps\n",
    "            learning_rate_new = self.learning_rate_change(which_step)\n",
    "\n",
    "        ## update learning rate.\n",
    "        self.learning_rate_current = learning_rate_new\n",
    "        self.learning_rate[which_step] =  learning_rate_new\n",
    "        return learning_rate_new\n",
    "        \n",
    "    def learning_rate_change(self, which_step):\n",
    "        # whether the triplet_loss has been updated.\n",
    "        if which_step >= 2 * self.smooth_n:\n",
    "            smoothed_triplet_loss_curr = self.triplet_loss_smoothed[which_step]\n",
    "            smoothed_triplet_loss_prev = self.triplet_loss_smoothed[which_step - self.smooth_n]\n",
    "            \n",
    "            if ((smoothed_triplet_loss_curr - smoothed_triplet_loss_prev)/smoothed_triplet_loss_prev) < self.thresh:\n",
    "                return self.learning_rate_current * 0.5\n",
    "            else:\n",
    "                return self.learning_rate_current\n",
    "        else:\n",
    "            return self.learning_rate_current"
   ]
  },
  {
   "cell_type": "code",
   "execution_count": 25,
   "metadata": {},
   "outputs": [],
   "source": [
    "a = learning_rate_control(10)"
   ]
  },
  {
   "cell_type": "code",
   "execution_count": 28,
   "metadata": {},
   "outputs": [
    {
     "name": "stdout",
     "output_type": "stream",
     "text": [
      "[ 100.    1.    2.    3.    4.    5.    6.    7.    8.    9.]\n",
      "[ 100.     0.5    1.     2.     3.     4.     5.     6.     7.     8. ]\n",
      "[ 100.   90.    2.    3.    4.    5.    6.    7.    8.    9.]\n",
      "[ 100.   95.    1.    2.    3.    4.    5.    6.    7.    8.]\n",
      "[ 100.   90.   80.    3.    4.    5.    6.    7.    8.    9.]\n",
      "[ 100.   95.   90.    2.    3.    4.    5.    6.    7.    8.]\n",
      "[ 100.   90.   80.   70.    4.    5.    6.    7.    8.    9.]\n",
      "[ 100.   95.   90.   80.    3.    4.    5.    6.    7.    8.]\n",
      "[ 100.   90.   80.   70.   60.    5.    6.    7.    8.    9.]\n",
      "[ 100.   95.   90.   80.   70.    4.    5.    6.    7.    8.]\n",
      "[ 100.   90.   80.   70.   60.   50.    6.    7.    8.    9.]\n",
      "[ 100.   95.   90.   80.   70.   60.    5.    6.    7.    8.]\n",
      "[ 100.   90.   80.   70.   60.   50.   40.    7.    8.    9.]\n",
      "[ 100.   95.   90.   80.   70.   60.   50.    6.    7.    8.]\n",
      "[ 100.   90.   80.   70.   60.   50.   40.   30.    8.    9.]\n",
      "[ 100.   95.   90.   80.   70.   60.   50.   40.    7.    8.]\n",
      "[ 100.   90.   80.   70.   60.   50.   40.   30.   20.    9.]\n",
      "[ 100.   95.   90.   80.   70.   60.   50.   40.   30.    8.]\n",
      "[ 100.   90.   80.   70.   60.   50.   40.   30.   20.   10.]\n",
      "[ 100.   95.   90.   80.   70.   60.   50.   40.   30.   20.]\n"
     ]
    }
   ],
   "source": [
    "for ii in range(10):\n",
    "    a.update_value(ii,  100 - 10 * ii)\n",
    "    print(a.triplet_loss)\n",
    "    print(a.triplet_loss_smoothed)"
   ]
  },
  {
   "cell_type": "code",
   "execution_count": 30,
   "metadata": {},
   "outputs": [
    {
     "data": {
      "text/plain": [
       "2"
      ]
     },
     "execution_count": 30,
     "metadata": {},
     "output_type": "execute_result"
    }
   ],
   "source": [
    "5%3"
   ]
  }
 ],
 "metadata": {
  "kernelspec": {
   "display_name": "Python [conda env:kaggle_speechrec]",
   "language": "python",
   "name": "conda-env-kaggle_speechrec-py"
  },
  "language_info": {
   "codemirror_mode": {
    "name": "ipython",
    "version": 3
   },
   "file_extension": ".py",
   "mimetype": "text/x-python",
   "name": "python",
   "nbconvert_exporter": "python",
   "pygments_lexer": "ipython3",
   "version": "3.6.2"
  }
 },
 "nbformat": 4,
 "nbformat_minor": 2
}
