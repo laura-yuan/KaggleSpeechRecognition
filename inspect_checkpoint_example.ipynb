{
 "cells": [
  {
   "cell_type": "code",
   "execution_count": 1,
   "metadata": {
    "collapsed": true
   },
   "outputs": [],
   "source": [
    "# try to use inspect check point\n",
    "from tensorflow.python.tools import inspect_checkpoint\n"
   ]
  },
  {
   "cell_type": "code",
   "execution_count": 8,
   "metadata": {
    "collapsed": true
   },
   "outputs": [],
   "source": [
    "import os\n",
    "checkpoint_path = r'E:\\Juyue\\tmp_conv\\speech_commands_train\\conv.ckpt-1200'"
   ]
  },
  {
   "cell_type": "code",
   "execution_count": 9,
   "metadata": {},
   "outputs": [
    {
     "name": "stdout",
     "output_type": "stream",
     "text": [
      "tensor_name:  Variable\n",
      "tensor_name:  Variable/Adam\n",
      "tensor_name:  Variable/Adam_1\n",
      "tensor_name:  Variable_1\n",
      "tensor_name:  Variable_1/Adam\n",
      "tensor_name:  Variable_1/Adam_1\n",
      "tensor_name:  Variable_2\n",
      "tensor_name:  Variable_2/Adam\n",
      "tensor_name:  Variable_2/Adam_1\n",
      "tensor_name:  Variable_3\n",
      "tensor_name:  Variable_3/Adam\n",
      "tensor_name:  Variable_3/Adam_1\n",
      "tensor_name:  Variable_4\n",
      "tensor_name:  Variable_4/Adam\n",
      "tensor_name:  Variable_4/Adam_1\n",
      "tensor_name:  Variable_5\n",
      "tensor_name:  Variable_5/Adam\n",
      "tensor_name:  Variable_5/Adam_1\n",
      "tensor_name:  global_step\n",
      "tensor_name:  train/beta1_power\n",
      "tensor_name:  train/beta2_power\n"
     ]
    }
   ],
   "source": [
    "inspect_checkpoint.print_tensors_in_checkpoint_file(file_name=checkpoint_path, tensor_name='',all_tensors=False,   all_tensor_names = True)"
   ]
  }
 ],
 "metadata": {
  "kernelspec": {
   "display_name": "Python [conda env:kaggle_speechrec]",
   "language": "python",
   "name": "conda-env-kaggle_speechrec-py"
  },
  "language_info": {
   "codemirror_mode": {
    "name": "ipython",
    "version": 3
   },
   "file_extension": ".py",
   "mimetype": "text/x-python",
   "name": "python",
   "nbconvert_exporter": "python",
   "pygments_lexer": "ipython3",
   "version": "3.6.2"
  }
 },
 "nbformat": 4,
 "nbformat_minor": 2
}
